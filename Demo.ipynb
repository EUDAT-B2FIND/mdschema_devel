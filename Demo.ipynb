{
 "cells": [
  {
   "cell_type": "markdown",
   "id": "be36cb14-1fe6-4f81-82eb-85291097986b",
   "metadata": {},
   "source": [
    "# Demo eudatcore v1.1"
   ]
  },
  {
   "cell_type": "code",
   "execution_count": 1,
   "id": "f0d060d8-3e24-44e2-96f5-5863b57e3022",
   "metadata": {},
   "outputs": [],
   "source": [
    "import xmlschema\n",
    "my_schema = xmlschema.XMLSchema('eudat-core.xsd')"
   ]
  },
  {
   "cell_type": "code",
   "execution_count": 2,
   "id": "70682567-24ac-4cc9-ad62-7b03b8d8d60f",
   "metadata": {},
   "outputs": [
    {
     "data": {
      "text/plain": [
       "True"
      ]
     },
     "execution_count": 2,
     "metadata": {},
     "output_type": "execute_result"
    }
   ],
   "source": [
    "my_schema.is_valid('core-full-example-v1_1.xml')"
   ]
  },
  {
   "cell_type": "code",
   "execution_count": 3,
   "id": "d50026e4-abf3-47b8-b491-14b2b56a90f4",
   "metadata": {},
   "outputs": [],
   "source": [
    "my_schema.validate('core-full-example-v1_1.xml')"
   ]
  },
  {
   "cell_type": "markdown",
   "id": "5630a75c-09d4-470d-bc8f-44596a57614e",
   "metadata": {},
   "source": [
    "## eudatcore v1.2"
   ]
  },
  {
   "cell_type": "code",
   "execution_count": 4,
   "id": "e70a3df6-b2d9-40c4-a481-ccf71fab46f4",
   "metadata": {},
   "outputs": [],
   "source": [
    "my_schema.validate('core-full-example-v1_2.xml')"
   ]
  },
  {
   "cell_type": "code",
   "execution_count": null,
   "id": "d82fe9d9-175a-44ef-8899-791ad58b6f3c",
   "metadata": {},
   "outputs": [],
   "source": []
  }
 ],
 "metadata": {
  "kernelspec": {
   "display_name": "Python 3 (ipykernel)",
   "language": "python",
   "name": "python3"
  },
  "language_info": {
   "codemirror_mode": {
    "name": "ipython",
    "version": 3
   },
   "file_extension": ".py",
   "mimetype": "text/x-python",
   "name": "python",
   "nbconvert_exporter": "python",
   "pygments_lexer": "ipython3",
   "version": "3.12.0"
  }
 },
 "nbformat": 4,
 "nbformat_minor": 5
}
